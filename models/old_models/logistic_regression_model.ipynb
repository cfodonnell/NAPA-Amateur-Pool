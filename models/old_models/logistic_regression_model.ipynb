{
 "cells": [
  {
   "cell_type": "code",
   "execution_count": 1,
   "metadata": {},
   "outputs": [],
   "source": [
    "import numpy as np\n",
    "import pandas as pd\n",
    "import matplotlib.pyplot as plt\n",
    "from sklearn.model_selection import train_test_split\n",
    "import scipy.optimize as opt\n",
    "%matplotlib inline\n",
    "\n",
    "data = pd.read_csv('C:\\\\Users\\\\Owner\\\\Napa\\\\results_model_data_8.csv')"
   ]
  },
  {
   "cell_type": "code",
   "execution_count": 2,
   "metadata": {},
   "outputs": [],
   "source": [
    "def result_assign(win_margin):\n",
    "    # This function converts the win_margin column into a binary win/loss result\n",
    "    if win_margin>0:\n",
    "        return 1\n",
    "    else:\n",
    "        return 0"
   ]
  },
  {
   "cell_type": "code",
   "execution_count": 3,
   "metadata": {},
   "outputs": [],
   "source": [
    "def sigmoid(z):\n",
    "    # Computes the sigmoid function for logistic regression\n",
    "    return 1 / (1 + np.exp(-z))"
   ]
  },
  {
   "cell_type": "code",
   "execution_count": 4,
   "metadata": {},
   "outputs": [],
   "source": [
    "def cost(theta, X, y):\n",
    "    # Computes the cost function for logistic regression\n",
    "    theta = np.matrix(theta)\n",
    "    X = np.matrix(X)\n",
    "    y = np.matrix(y)\n",
    "    first = np.multiply(-y, np.log(sigmoid(X * theta.T)))\n",
    "    second = np.multiply((1 - y), np.log(1 - sigmoid(X * theta.T)))\n",
    "    return np.sum(first - second) / (len(X))"
   ]
  },
  {
   "cell_type": "code",
   "execution_count": 5,
   "metadata": {},
   "outputs": [],
   "source": [
    "def gradient(theta, X, y):\n",
    "    # Computes the gradient of the cost function for logistic regression\n",
    "    theta = np.matrix(theta)\n",
    "    X = np.matrix(X)\n",
    "    y = np.matrix(y)\n",
    "    \n",
    "    parameters = int(theta.ravel().shape[1])\n",
    "    grad = np.zeros(parameters)\n",
    "    \n",
    "    error = sigmoid(X * theta.T) - y\n",
    "    \n",
    "    for i in range(parameters):\n",
    "        term = np.multiply(error, X[:,i])\n",
    "        grad[i] = np.sum(term) / len(X)\n",
    "    \n",
    "    return grad"
   ]
  },
  {
   "cell_type": "code",
   "execution_count": 6,
   "metadata": {},
   "outputs": [],
   "source": [
    "def predict(theta, X):\n",
    "    # Uses the minimized theta parameter to generate predictions based on model\n",
    "    probability = sigmoid(X * theta.T)\n",
    "    return [1 if x >= 0.5 else 0 for x in probability]"
   ]
  },
  {
   "cell_type": "code",
   "execution_count": 7,
   "metadata": {},
   "outputs": [],
   "source": [
    "def get_accuracy(predictions, y):\n",
    "    # Compares the model predictions to the real data and returns accuracy\n",
    "    correct = [1 if ((a == 1 and b == 1) or (a == 0 and b == 0)) else 0 for (a, b) in zip(predictions, y)]\n",
    "    return sum(map(float, correct)) / float(len(correct))*100"
   ]
  },
  {
   "cell_type": "code",
   "execution_count": 8,
   "metadata": {},
   "outputs": [
    {
     "data": {
      "text/html": [
       "<div>\n",
       "<style scoped>\n",
       "    .dataframe tbody tr th:only-of-type {\n",
       "        vertical-align: middle;\n",
       "    }\n",
       "\n",
       "    .dataframe tbody tr th {\n",
       "        vertical-align: top;\n",
       "    }\n",
       "\n",
       "    .dataframe thead th {\n",
       "        text-align: right;\n",
       "    }\n",
       "</style>\n",
       "<table border=\"1\" class=\"dataframe\">\n",
       "  <thead>\n",
       "    <tr style=\"text-align: right;\">\n",
       "      <th></th>\n",
       "      <th>Race Margin</th>\n",
       "      <th>Win % Margin</th>\n",
       "      <th>Skill Margin</th>\n",
       "      <th>Game Margin</th>\n",
       "      <th>AvgPPM Margin</th>\n",
       "      <th>Result</th>\n",
       "    </tr>\n",
       "  </thead>\n",
       "  <tbody>\n",
       "    <tr>\n",
       "      <th>0</th>\n",
       "      <td>0.0</td>\n",
       "      <td>5.769231</td>\n",
       "      <td>-3</td>\n",
       "      <td>-64</td>\n",
       "      <td>-0.02</td>\n",
       "      <td>0</td>\n",
       "    </tr>\n",
       "    <tr>\n",
       "      <th>1</th>\n",
       "      <td>-1.0</td>\n",
       "      <td>5.769231</td>\n",
       "      <td>-3</td>\n",
       "      <td>-64</td>\n",
       "      <td>-0.02</td>\n",
       "      <td>1</td>\n",
       "    </tr>\n",
       "    <tr>\n",
       "      <th>2</th>\n",
       "      <td>0.0</td>\n",
       "      <td>-1.388889</td>\n",
       "      <td>6</td>\n",
       "      <td>-69</td>\n",
       "      <td>-0.73</td>\n",
       "      <td>1</td>\n",
       "    </tr>\n",
       "    <tr>\n",
       "      <th>3</th>\n",
       "      <td>0.0</td>\n",
       "      <td>-1.388889</td>\n",
       "      <td>6</td>\n",
       "      <td>-69</td>\n",
       "      <td>-0.73</td>\n",
       "      <td>0</td>\n",
       "    </tr>\n",
       "    <tr>\n",
       "      <th>4</th>\n",
       "      <td>0.0</td>\n",
       "      <td>2.040816</td>\n",
       "      <td>1</td>\n",
       "      <td>51</td>\n",
       "      <td>-0.42</td>\n",
       "      <td>0</td>\n",
       "    </tr>\n",
       "  </tbody>\n",
       "</table>\n",
       "</div>"
      ],
      "text/plain": [
       "   Race Margin  Win % Margin  Skill Margin  Game Margin  AvgPPM Margin  Result\n",
       "0          0.0      5.769231            -3          -64          -0.02       0\n",
       "1         -1.0      5.769231            -3          -64          -0.02       1\n",
       "2          0.0     -1.388889             6          -69          -0.73       1\n",
       "3          0.0     -1.388889             6          -69          -0.73       0\n",
       "4          0.0      2.040816             1           51          -0.42       0"
      ]
     },
     "execution_count": 8,
     "metadata": {},
     "output_type": "execute_result"
    }
   ],
   "source": [
    "# Add a new binary column to the data, which has value 1 where the result is positive, and 0 if negative\n",
    "data['Result'] = data.apply(lambda x: result_assign(x['Win Margin']),axis=1)\n",
    "# Select only quantitive paramaters to be used in the model\n",
    "model_data = data[['Race Margin', 'Win % Margin', 'Skill Margin', 'Game Margin', 'AvgPPM Margin', 'Result']]\n",
    "model_data.head()"
   ]
  },
  {
   "cell_type": "code",
   "execution_count": 9,
   "metadata": {},
   "outputs": [],
   "source": [
    "# add a ones column - this makes the matrix multiplication work out easier\n",
    "model_data.insert(0, 'Ones', 1)\n",
    "\n",
    "# set X (training data) and y (target variable)\n",
    "cols = model_data.shape[1]\n",
    "X = model_data.iloc[:,0:cols-1]\n",
    "y = model_data.iloc[:,cols-1:cols]\n",
    "# Split the data into training and validation sets with 80/20 ratio\n",
    "train_X, val_X, train_y, val_y = train_test_split(X, y, train_size=0.8, test_size=0.2, random_state = 0)\n",
    "\n",
    "# convert to numpy arrays and initalize the parameter array theta\n",
    "X_train = np.array(train_X.values)\n",
    "y_train = np.array(train_y.values)\n",
    "X_val = np.array(val_X.values)\n",
    "y_val = np.array(val_y.values)\n",
    "theta = np.zeros(cols-1)"
   ]
  },
  {
   "cell_type": "code",
   "execution_count": 10,
   "metadata": {},
   "outputs": [
    {
     "data": {
      "text/plain": [
       "0.6182440340024586"
      ]
     },
     "execution_count": 10,
     "metadata": {},
     "output_type": "execute_result"
    }
   ],
   "source": [
    "# Use a TNC optimization algorithm to minimize the cost function\n",
    "result = opt.fmin_tnc(func=cost, x0=theta, fprime=gradient, args=(X_train, y_train))\n",
    "cost(result[0], X_train, y_train)"
   ]
  },
  {
   "cell_type": "code",
   "execution_count": 11,
   "metadata": {},
   "outputs": [
    {
     "name": "stdout",
     "output_type": "stream",
     "text": [
      "Train accuracy = 64.8042948998%\n",
      "Validation accuracy = 63.620474407%\n"
     ]
    }
   ],
   "source": [
    "# Convert theta_min to a matrix and retrieve the training and validation accuracies\n",
    "theta_min = np.matrix(result[0])\n",
    "train_predictions = predict(theta_min, X_train)\n",
    "val_predictions = predict(theta_min, X_val)\n",
    "train_accuracy = get_accuracy(train_predictions, y_train)\n",
    "val_accuracy = get_accuracy(val_predictions, y_val)\n",
    "print 'Train accuracy = {0}%'.format(train_accuracy)\n",
    "print 'Validation accuracy = {0}%'.format(val_accuracy)"
   ]
  },
  {
   "cell_type": "code",
   "execution_count": 12,
   "metadata": {},
   "outputs": [
    {
     "data": {
      "text/plain": [
       "matrix([[ 4.54210216e-02, -3.07343917e-01,  4.71893190e-02,\n",
       "          3.10746481e-02, -1.93209569e-04, -6.66449063e-02]])"
      ]
     },
     "execution_count": 12,
     "metadata": {},
     "output_type": "execute_result"
    }
   ],
   "source": [
    "theta_min"
   ]
  },
  {
   "cell_type": "code",
   "execution_count": null,
   "metadata": {},
   "outputs": [],
   "source": []
  }
 ],
 "metadata": {
  "kernelspec": {
   "display_name": "Python 2",
   "language": "python",
   "name": "python2"
  },
  "language_info": {
   "codemirror_mode": {
    "name": "ipython",
    "version": 2
   },
   "file_extension": ".py",
   "mimetype": "text/x-python",
   "name": "python",
   "nbconvert_exporter": "python",
   "pygments_lexer": "ipython2",
   "version": "2.7.16"
  }
 },
 "nbformat": 4,
 "nbformat_minor": 2
}
